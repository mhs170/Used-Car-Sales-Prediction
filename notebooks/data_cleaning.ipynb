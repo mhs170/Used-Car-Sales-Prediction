{
 "cells": [
  {
   "cell_type": "code",
   "execution_count": 1,
   "metadata": {},
   "outputs": [],
   "source": [
    "import pandas as pd\n",
    "import numpy as np\n",
    "import os\n",
    "from scipy import stats\n",
    "from scipy.stats import zscore"
   ]
  },
  {
   "cell_type": "markdown",
   "metadata": {},
   "source": [
    "### Read the data file"
   ]
  },
  {
   "cell_type": "code",
   "execution_count": 2,
   "metadata": {},
   "outputs": [],
   "source": [
    "def load_data(file_path):\n",
    "    return pd.read_csv(file_path)\n",
    "\n",
    "# df = pd.read_csv('/Users/mohammed/Downloads/used-cars-sales-prediction/data/raw.csv')\n"
   ]
  },
  {
   "cell_type": "markdown",
   "metadata": {},
   "source": [
    "### Find Missing Values"
   ]
  },
  {
   "cell_type": "code",
   "execution_count": 3,
   "metadata": {},
   "outputs": [],
   "source": [
    "def identify_missing_data(df):\n",
    "    missing_summary = df.isnull().sum()\n",
    "    missing_percentage = (missing_summary / len(df)) * 100\n",
    "    missing_report = pd.DataFrame({\n",
    "        'Missing Count': missing_summary,\n",
    "        'Missing Percentage': missing_percentage\n",
    "    })\n",
    "    print(\"Missing Data Report:\")\n",
    "    print(missing_report)\n",
    "    return missing_report"
   ]
  },
  {
   "cell_type": "markdown",
   "metadata": {},
   "source": [
    "## Find Duplicates"
   ]
  },
  {
   "cell_type": "code",
   "execution_count": 4,
   "metadata": {},
   "outputs": [],
   "source": [
    "def find_duplicate_rows(df):\n",
    "    duplicate_mask = df.duplicated(keep=False)\n",
    "    duplicate_rows = df[duplicate_mask]\n",
    "    return duplicate_rows\n"
   ]
  },
  {
   "cell_type": "code",
   "execution_count": 5,
   "metadata": {},
   "outputs": [],
   "source": [
    "def drop_duplicates(df):\n",
    "    duplicate_count = df.duplicated().sum()\n",
    "    print(f\"Number of duplicates before dropping: {duplicate_count}\")\n",
    "    df = df.drop_duplicates()\n",
    "    return df, duplicate_count"
   ]
  },
  {
   "cell_type": "markdown",
   "metadata": {},
   "source": [
    "## Remove Outliers"
   ]
  },
  {
   "cell_type": "code",
   "execution_count": 6,
   "metadata": {},
   "outputs": [],
   "source": [
    "def remove_outliers(df, column_name, threshold=3):\n",
    "    df['z_score'] = zscore(df[column_name])\n",
    "    original_row_count = len(df)\n",
    "    df_cleaned = df[df['z_score'].abs() <= threshold]\n",
    "    cleaned_row_count = len(df_cleaned)\n",
    "    rows_affected = original_row_count - cleaned_row_count\n",
    "    df_cleaned = df_cleaned.drop(columns=['z_score'])\n",
    "    print(f\"Number of rows affected by removing outliers: {rows_affected}\")\n",
    "    return df_cleaned"
   ]
  },
  {
   "cell_type": "markdown",
   "metadata": {},
   "source": [
    "## Unique Brands"
   ]
  },
  {
   "cell_type": "code",
   "execution_count": 9,
   "metadata": {},
   "outputs": [
    {
     "data": {
      "text/plain": [
       "array(['Ford', 'Hyundai', 'Lexus', 'INFINITI', 'Audi', 'Acura', 'BMW',\n",
       "       'Tesla', 'Land', 'Aston', 'Toyota', 'Lincoln', 'Jaguar',\n",
       "       'Mercedes-Benz', 'Dodge', 'Nissan', 'Genesis', 'Chevrolet', 'Kia',\n",
       "       'Jeep', 'Bentley', 'Honda', 'Lucid', 'MINI', 'Porsche', 'Hummer',\n",
       "       'Chrysler', 'Volvo', 'Cadillac', 'Lamborghini', 'Maserati',\n",
       "       'Volkswagen', 'Subaru', 'Rivian', 'GMC', 'RAM', 'Alfa', 'Ferrari',\n",
       "       'Scion', 'Mitsubishi', 'Mazda', 'Saturn', 'Bugatti', 'Polestar',\n",
       "       'Rolls-Royce', 'McLaren', 'Buick', 'Lotus', 'Pontiac', 'FIAT',\n",
       "       'Karma', 'Saab', 'Mercury', 'Plymouth', 'smart', 'Maybach',\n",
       "       'Suzuki'], dtype=object)"
      ]
     },
     "execution_count": 9,
     "metadata": {},
     "output_type": "execute_result"
    }
   ],
   "source": [
    "# Looking for misspellings in brand names\n",
    "\n",
    "def \n",
    "\n",
    "df = pd.read_csv('/Users/mohammed/Downloads/used-cars-sales-prediction/data/raw1.csv')\n",
    "df['brand'].unique()"
   ]
  },
  {
   "cell_type": "code",
   "execution_count": 7,
   "metadata": {},
   "outputs": [
    {
     "name": "stdout",
     "output_type": "stream",
     "text": [
      "Missing Data Report:\n",
      "              Missing Count  Missing Percentage\n",
      "brand                     0            0.000000\n",
      "model                     0            0.000000\n",
      "model_year                0            0.000000\n",
      "milage                    0            0.000000\n",
      "fuel_type               170            4.240459\n",
      "engine                    0            0.000000\n",
      "transmission              0            0.000000\n",
      "ext_col                   0            0.000000\n",
      "int_col                   0            0.000000\n",
      "accident                113            2.818658\n",
      "clean_title             596           14.866550\n",
      "price                     0            0.000000\n",
      "Duplicate rows found:\n",
      "Empty DataFrame\n",
      "Columns: [brand, model, model_year, milage, fuel_type, engine, transmission, ext_col, int_col, accident, clean_title, price]\n",
      "Index: []\n",
      "Number of duplicates before dropping: 0\n",
      "Number of duplicates removed: 0\n"
     ]
    }
   ],
   "source": [
    "raw_data = load_data('/Users/mohammed/Downloads/used-cars-sales-prediction/data/raw1.csv')\n",
    "\n",
    "missing_report = identify_missing_data(raw_data)\n",
    "\n",
    "duplicate_rows = find_duplicate_rows(raw_data)\n",
    "print(\"Duplicate rows found:\")\n",
    "print(duplicate_rows)\n",
    "\n",
    "raw_data, duplicate_count = drop_duplicates(raw_data)\n",
    "print(f\"Number of duplicates removed: {duplicate_count}\")\n",
    "\n"
   ]
  }
 ],
 "metadata": {
  "kernelspec": {
   "display_name": "Python 3 (ipykernel)",
   "language": "python",
   "name": "python3"
  },
  "language_info": {
   "codemirror_mode": {
    "name": "ipython",
    "version": 3
   },
   "file_extension": ".py",
   "mimetype": "text/x-python",
   "name": "python",
   "nbconvert_exporter": "python",
   "pygments_lexer": "ipython3",
   "version": "3.13.1"
  }
 },
 "nbformat": 4,
 "nbformat_minor": 4
}
